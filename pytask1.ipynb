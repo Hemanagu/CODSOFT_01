{
 "cells": [
  {
   "cell_type": "code",
   "execution_count": 4,
   "id": "a61bcc18-09bb-467a-89bc-9c27d1d8524c",
   "metadata": {},
   "outputs": [
    {
     "name": "stdout",
     "output_type": "stream",
     "text": [
      "No existing todo list found.\n",
      "\n",
      "Todo List Menu:\n",
      "1. Add Task\n",
      "2. Remove Task\n",
      "3. View Tasks\n",
      "4. Save Tasks\n",
      "5. Exit\n"
     ]
    },
    {
     "name": "stdin",
     "output_type": "stream",
     "text": [
      "Enter your choice (1/2/3/4/5):  1\n",
      "Enter the task name:  sleep\n",
      "Enter the priority (High/Medium/Low):  1\n"
     ]
    },
    {
     "name": "stdout",
     "output_type": "stream",
     "text": [
      "Task added successfully.\n",
      "\n",
      "Todo List Menu:\n",
      "1. Add Task\n",
      "2. Remove Task\n",
      "3. View Tasks\n",
      "4. Save Tasks\n",
      "5. Exit\n"
     ]
    },
    {
     "name": "stdin",
     "output_type": "stream",
     "text": [
      "Enter your choice (1/2/3/4/5):  3\n"
     ]
    },
    {
     "name": "stdout",
     "output_type": "stream",
     "text": [
      "\n",
      "Todo List:\n",
      "1. sleep - Priority: 1\n",
      "\n",
      "Todo List Menu:\n",
      "1. Add Task\n",
      "2. Remove Task\n",
      "3. View Tasks\n",
      "4. Save Tasks\n",
      "5. Exit\n"
     ]
    },
    {
     "name": "stdin",
     "output_type": "stream",
     "text": [
      "Enter your choice (1/2/3/4/5):  5\n"
     ]
    },
    {
     "name": "stdout",
     "output_type": "stream",
     "text": [
      "Exiting the Todo List application.\n"
     ]
    }
   ],
   "source": [
    "import os\n",
    "\n",
    "def add_task(todo_list):\n",
    "    task_name = input(\"Enter the task name: \")\n",
    "    priority = input(\"Enter the priority (High/Medium/Low): \").capitalize()\n",
    "    todo_list.append({\"task\": task_name, \"priority\": priority})\n",
    "    print(\"Task added successfully.\")\n",
    "\n",
    "def remove_task(todo_list):\n",
    "    task_name = input(\"Enter the task name to remove: \")\n",
    "    for task in todo_list:\n",
    "        if task[\"task\"] == task_name:\n",
    "            todo_list.remove(task)\n",
    "            print(\"Task removed successfully.\")\n",
    "            return\n",
    "    print(\"Task not found.\")\n",
    "\n",
    "def view_tasks(todo_list):\n",
    "    if todo_list:\n",
    "        print(\"\\nTodo List:\")\n",
    "        for index, task in enumerate(todo_list, start=1):\n",
    "            print(f\"{index}. {task['task']} - Priority: {task['priority']}\")\n",
    "    else:\n",
    "        print(\"Todo list is empty.\")\n",
    "\n",
    "def save_tasks(todo_list, file_name):\n",
    "    with open(file_name, 'w') as file:\n",
    "        for task in todo_list:\n",
    "            file.write(f\"{task['task']},{task['priority']}\\n\")\n",
    "    print(\"Tasks saved successfully.\")\n",
    "\n",
    "def load_tasks(file_name):\n",
    "    todo_list = []\n",
    "    if os.path.exists(file_name):\n",
    "        with open(file_name, 'r') as file:\n",
    "            for line in file:\n",
    "                task_name, priority = line.strip().split(',')\n",
    "                todo_list.append({\"task\": task_name, \"priority\": priority})\n",
    "        print(\"Tasks loaded successfully.\")\n",
    "    else:\n",
    "        print(\"No existing todo list found.\")\n",
    "    return todo_list\n",
    "\n",
    "def main():\n",
    "    file_name = \"todo_list.txt\"\n",
    "    todo_list = load_tasks(file_name)\n",
    "\n",
    "    while True:\n",
    "        print(\"\\nTodo List Menu:\")\n",
    "        print(\"1. Add Task\")\n",
    "        print(\"2. Remove Task\")\n",
    "        print(\"3. View Tasks\")\n",
    "        print(\"4. Save Tasks\")\n",
    "        print(\"5. Exit\")\n",
    "\n",
    "        choice = input(\"Enter your choice (1/2/3/4/5): \")\n",
    "\n",
    "        if choice == '1':\n",
    "            add_task(todo_list)\n",
    "        elif choice == '2':\n",
    "            remove_task(todo_list)\n",
    "        elif choice == '3':\n",
    "            view_tasks(todo_list)\n",
    "        elif choice == '4':\n",
    "            save_tasks(todo_list, file_name)\n",
    "        elif choice == '5':\n",
    "            print(\"Exiting the Todo List application.\")\n",
    "            break\n",
    "        else:\n",
    "            print(\"Invalid choice. Please enter a number between 1 and 5.\")\n",
    "\n",
    "if __name__ == \"__main__\":\n",
    "    main()\n"
   ]
  },
  {
   "cell_type": "markdown",
   "id": "bf82c74e-6eec-4914-b920-cfb5f2d9a982",
   "metadata": {},
   "source": [
    "##### "
   ]
  }
 ],
 "metadata": {
  "kernelspec": {
   "display_name": "Python 3 (ipykernel)",
   "language": "python",
   "name": "python3"
  },
  "language_info": {
   "codemirror_mode": {
    "name": "ipython",
    "version": 3
   },
   "file_extension": ".py",
   "mimetype": "text/x-python",
   "name": "python",
   "nbconvert_exporter": "python",
   "pygments_lexer": "ipython3",
   "version": "3.11.7"
  }
 },
 "nbformat": 4,
 "nbformat_minor": 5
}
